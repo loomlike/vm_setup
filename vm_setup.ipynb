{
 "cells": [
  {
   "cell_type": "markdown",
   "metadata": {},
   "source": [
    "# Setup N Virtual Machines for Multiple Users\n",
    "\n",
    "Use Virtual Machine Scale Set (VMSS) to create *N* Virtual Machines (VMs), then invoke a script to setup multiple users on each VM instance. \n",
    "\n",
    "## Azure CLI Setup"
   ]
  },
  {
   "cell_type": "code",
   "execution_count": 5,
   "metadata": {},
   "outputs": [],
   "source": [
    "AZURE_SUBSCRIPTION_ID = \"1b365fe2-5882-4935-bd81-8027e0816b45\"\n",
    "LOCATION = \"australiaeast\"\n",
    "VM_SIZE = \"Standard_NC6s_v3\"\n",
    "RG_NAME = \"mladsgpuaustraliaeast-test\"\n",
    "VMSS_NAME = \"{}-vmss\".format(RG_NAME)\n",
    "\n",
    "# Number of VM instances in a scale set \n",
    "NUM_VM = 4"
   ]
  },
  {
   "cell_type": "code",
   "execution_count": null,
   "metadata": {},
   "outputs": [],
   "source": [
    "!az login"
   ]
  },
  {
   "cell_type": "code",
   "execution_count": null,
   "metadata": {},
   "outputs": [],
   "source": [
    "!az account set -s {AZURE_SUBSCRIPTION_ID}"
   ]
  },
  {
   "cell_type": "code",
   "execution_count": 2,
   "metadata": {},
   "outputs": [
    {
     "name": "stdout",
     "output_type": "stream",
     "text": [
      "{\r\n",
      "  \"environmentName\": \"AzureCloud\",\r\n",
      "  \"id\": \"1b365fe2-5882-4935-bd81-8027e0816b45\",\r\n",
      "  \"isDefault\": true,\r\n",
      "  \"name\": \"AICAT-VB-HAR\",\r\n",
      "  \"state\": \"Enabled\",\r\n",
      "  \"tenantId\": \"72f988bf-86f1-41af-91ab-2d7cd011db47\",\r\n",
      "  \"user\": {\r\n",
      "    \"name\": \"jumin@microsoft.com\",\r\n",
      "    \"type\": \"user\"\r\n",
      "  }\r\n",
      "}\r\n"
     ]
    }
   ],
   "source": [
    "!az account show"
   ]
  },
  {
   "cell_type": "markdown",
   "metadata": {},
   "source": [
    "## Create VMSS"
   ]
  },
  {
   "cell_type": "code",
   "execution_count": 6,
   "metadata": {},
   "outputs": [
    {
     "name": "stdout",
     "output_type": "stream",
     "text": [
      "{\r\n",
      "  \"id\": \"/subscriptions/1b365fe2-5882-4935-bd81-8027e0816b45/resourceGroups/mladsgpuaustraliaeast-test\",\r\n",
      "  \"location\": \"australiaeast\",\r\n",
      "  \"managedBy\": null,\r\n",
      "  \"name\": \"mladsgpuaustraliaeast-test\",\r\n",
      "  \"properties\": {\r\n",
      "    \"provisioningState\": \"Succeeded\"\r\n",
      "  },\r\n",
      "  \"tags\": null,\r\n",
      "  \"type\": null\r\n",
      "}\r\n"
     ]
    }
   ],
   "source": [
    "!az group create --name {RG_NAME} --location {LOCATION}"
   ]
  },
  {
   "cell_type": "code",
   "execution_count": 7,
   "metadata": {},
   "outputs": [
    {
     "name": "stdout",
     "output_type": "stream",
     "text": [
      "\u001b[K{- Finished ..\n",
      "  \"vmss\": {\n",
      "    \"doNotRunExtensionsOnOverprovisionedVMs\": false,\n",
      "    \"overprovision\": true,\n",
      "    \"provisioningState\": \"Succeeded\",\n",
      "    \"singlePlacementGroup\": true,\n",
      "    \"uniqueId\": \"b37d6073-6744-4bda-939a-116ca8f19b4e\",\n",
      "    \"upgradePolicy\": {\n",
      "      \"mode\": \"Manual\"\n",
      "    },\n",
      "    \"virtualMachineProfile\": {\n",
      "      \"networkProfile\": {\n",
      "        \"networkInterfaceConfigurations\": [\n",
      "          {\n",
      "            \"name\": \"mlads2b46Nic\",\n",
      "            \"properties\": {\n",
      "              \"dnsSettings\": {\n",
      "                \"dnsServers\": []\n",
      "              },\n",
      "              \"enableAcceleratedNetworking\": false,\n",
      "              \"enableIPForwarding\": false,\n",
      "              \"ipConfigurations\": [\n",
      "                {\n",
      "                  \"name\": \"mlads2b46IPConfig\",\n",
      "                  \"properties\": {\n",
      "                    \"loadBalancerBackendAddressPools\": [\n",
      "                      {\n",
      "                        \"id\": \"/subscriptions/1b365fe2-5882-4935-bd81-8027e0816b45/resourceGroups/mladsgpuaustraliaeast-test/providers/Microsoft.Network/loadBalancers/mladsgpuaustraliaeast-test-vmssLB/backendAddressPools/mladsgpuaustraliaeast-test-vmssLBBEPool\",\n",
      "                        \"resourceGroup\": \"mladsgpuaustraliaeast-test\"\n",
      "                      }\n",
      "                    ],\n",
      "                    \"loadBalancerInboundNatPools\": [\n",
      "                      {\n",
      "                        \"id\": \"/subscriptions/1b365fe2-5882-4935-bd81-8027e0816b45/resourceGroups/mladsgpuaustraliaeast-test/providers/Microsoft.Network/loadBalancers/mladsgpuaustraliaeast-test-vmssLB/inboundNatPools/mladsgpuaustraliaeast-test-vmssLBNatPool\",\n",
      "                        \"resourceGroup\": \"mladsgpuaustraliaeast-test\"\n",
      "                      }\n",
      "                    ],\n",
      "                    \"privateIPAddressVersion\": \"IPv4\",\n",
      "                    \"publicIPAddressConfiguration\": {\n",
      "                      \"name\": \"instancepublicip\",\n",
      "                      \"properties\": {\n",
      "                        \"idleTimeoutInMinutes\": 10,\n",
      "                        \"ipTags\": []\n",
      "                      }\n",
      "                    },\n",
      "                    \"subnet\": {\n",
      "                      \"id\": \"/subscriptions/1b365fe2-5882-4935-bd81-8027e0816b45/resourceGroups/mladsgpuaustraliaeast-test/providers/Microsoft.Network/virtualNetworks/mladsgpuaustraliaeast-test-vmssVNET/subnets/mladsgpuaustraliaeast-test-vmssSubnet\",\n",
      "                      \"resourceGroup\": \"mladsgpuaustraliaeast-test\"\n",
      "                    }\n",
      "                  }\n",
      "                }\n",
      "              ],\n",
      "              \"primary\": true\n",
      "            }\n",
      "          }\n",
      "        ]\n",
      "      },\n",
      "      \"osProfile\": {\n",
      "        \"adminUsername\": \"jiata\",\n",
      "        \"allowExtensionOperations\": true,\n",
      "        \"computerNamePrefix\": \"mlads2b46\",\n",
      "        \"linuxConfiguration\": {\n",
      "          \"disablePasswordAuthentication\": false,\n",
      "          \"provisionVMAgent\": true\n",
      "        },\n",
      "        \"requireGuestProvisionSignal\": true,\n",
      "        \"secrets\": []\n",
      "      },\n",
      "      \"storageProfile\": {\n",
      "        \"dataDisks\": [\n",
      "          {\n",
      "            \"caching\": \"None\",\n",
      "            \"createOption\": \"FromImage\",\n",
      "            \"lun\": 0,\n",
      "            \"managedDisk\": {\n",
      "              \"storageAccountType\": \"Premium_LRS\"\n",
      "            }\n",
      "          }\n",
      "        ],\n",
      "        \"imageReference\": {\n",
      "          \"offer\": \"linux-data-science-vm-ubuntu\",\n",
      "          \"publisher\": \"microsoft-dsvm\",\n",
      "          \"sku\": \"linuxdsvmubuntu\",\n",
      "          \"version\": \"latest\"\n",
      "        },\n",
      "        \"osDisk\": {\n",
      "          \"caching\": \"ReadWrite\",\n",
      "          \"createOption\": \"FromImage\",\n",
      "          \"managedDisk\": {\n",
      "            \"storageAccountType\": \"Premium_LRS\"\n",
      "          }\n",
      "        }\n",
      "      }\n",
      "    }\n",
      "  }\n",
      "}\n",
      "\u001b[0m"
     ]
    }
   ],
   "source": [
    "# Setup public-ip for each vm by using `--public-ip-per-vm` parameter\n",
    "!az vmss create -g {RG_NAME} -n {VMSS_NAME} --instance-count {NUM_VM} --image microsoft-dsvm:linux-data-science-vm-ubuntu:linuxdsvmubuntu:latest --vm-sku {VM_SIZE} --public-ip-per-vm --admin-username jiata --admin-password cvbpMlads2019"
   ]
  },
  {
   "cell_type": "code",
   "execution_count": 19,
   "metadata": {},
   "outputs": [
    {
     "name": "stdout",
     "output_type": "stream",
     "text": [
      "    \"ipAddress\": \"104.210.81.79\",\r\n",
      "    \"ipAddress\": \"104.210.81.80\",\r\n",
      "    \"ipAddress\": \"104.210.81.93\",\r\n",
      "    \"ipAddress\": \"104.210.81.109\",\r\n"
     ]
    }
   ],
   "source": [
    "# Check public ip addresses of the instances\n",
    "!az vmss list-instance-public-ips --resource-group {RG_NAME} --name {VMSS_NAME} | grep 'ipAddress'"
   ]
  },
  {
   "cell_type": "markdown",
   "metadata": {},
   "source": [
    "## Create User Accounts and Environment Setup"
   ]
  },
  {
   "cell_type": "code",
   "execution_count": 20,
   "metadata": {},
   "outputs": [
    {
     "name": "stdout",
     "output_type": "stream",
     "text": [
      "Writing setup_vm.sh\n"
     ]
    }
   ],
   "source": [
    "%%writefile setup_vm.sh\n",
    "\n",
    "cd ~\n",
    "\n",
    "# clone repo and install the conda env \n",
    "git clone https://www.github.com/microsoft/computervision \n",
    "# change permission as we copy this into each user's folder\n",
    "chmod -R ugo+rwx /root/computervision\n",
    "\n",
    "source /data/anaconda/etc/profile.d/conda.sh\n",
    "conda env create -f /root/computervision/environment.yml --name cv\n",
    "conda activate cv \n",
    "python -m ipykernel install --name cv --display-name \"MLADS CV LAB\" \n",
    "\n",
    "# add the 5 users to jupyterhub\n",
    "echo 'c.Authenticator.whitelist = {\"mlads1\", \"mlads2\", \"mlads3\", \"mlads4\", \"mlads5\"}' | sudo tee -a /etc/jupyterhub/jupyterhub_config.py\n",
    "\n",
    "# create the users to the vm \n",
    "for i in {1..5}\n",
    "do\n",
    "    USERNAME=mlads$i\n",
    "    PASSWORD=cvmlads$i\n",
    "    sudo adduser --quiet --disabled-password --gecos \"\" $USERNAME\n",
    "    echo \"$USERNAME:$PASSWORD\" | sudo chpasswd\n",
    "    rm -rf /data/home/$USERNAME/notebooks/*\n",
    "    # copy repo\n",
    "    cp -ar /root/computervision /data/home/$USERNAME/notebooks\n",
    "done\n",
    "\n",
    "# restart jupyterhub \n",
    "sudo systemctl stop jupyterhub \n",
    "sudo systemctl start jupyterhub \n",
    "\n",
    "exit"
   ]
  },
  {
   "cell_type": "code",
   "execution_count": 10,
   "metadata": {
    "scrolled": false
   },
   "outputs": [
    {
     "name": "stdout",
     "output_type": "stream",
     "text": [
      "\u001b[K[- Finished ..\n",
      "  {\n",
      "    \"value\": [\n",
      "      {\n",
      "        \"code\": \"ProvisioningState/succeeded\",\n",
      "        \"displayStatus\": \"Provisioning succeeded\",\n",
      "        \"level\": \"Info\",\n",
      "        \"message\": \"Enable succeeded: \\n[stdout]\\ntebooks\\\"->azureml-sdk[contrib,notebooks]>=1.0.30->-r /root/computervision/tmp1dYkq3.requirements.txt (line 3)) (0.7.1)\\nBuilding wheels for collected packages: nvidia-ml-py3, pycocotools, fusepy, pathspec\\n  Building wheel for nvidia-ml-py3 (setup.py): started\\n  Building wheel for nvidia-ml-py3 (setup.py): finished with status 'done'\\n  Created wheel for nvidia-ml-py3: filename=nvidia_ml_py3-7.352.0-cp36-none-any.whl size=19192 sha256=2034d11a4dfb093340eb35b48851591ec37eac709ad2bfa48443adf563b67227\\n  Stored in directory: /root/.cache/pip/wheels/e4/1d/06/640c93f5270d67d0247f30be91f232700d19023f9e66d735c7\\n  Building wheel for pycocotools (setup.py): started\\n  Building wheel for pycocotools (setup.py): finished with status 'done'\\n  Created wheel for pycocotools: filename=pycocotools-2.0-cp36-cp36m-linux_x86_64.whl size=288541 sha256=9b9c612ef311962ee2f57326ce258047553de52eab1e2899f19c5bff18b3df52\\n  Stored in directory: /tmp/pip-ephem-wheel-cache-gbol8059/wheels/69/2b/12/2fa959e49f73d26cff202c2f4e5079096c9c57c8a8509fd75c\\n  Building wheel for fusepy (setup.py): started\\n  Building wheel for fusepy (setup.py): finished with status 'done'\\n  Created wheel for fusepy: filename=fusepy-3.0.1-cp36-none-any.whl size=10505 sha256=2bfb1046ab24f8e834cd25aadbd4fdaac7752393cbd45353acde7f8a910f2d2e\\n  Stored in directory: /root/.cache/pip/wheels/4c/a5/91/7772af9e21c461f07bb40f26d928d7d231d224977dd8353bab\\n  Building wheel for pathspec (setup.py): started\\n  Building wheel for pathspec (setup.py): finished with status 'done'\\n  Created wheel for pathspec: filename=pathspec-0.6.0-cp36-none-any.whl size=26671 sha256=82b7a569dfe8d188e318939f955b8d75b22a01d5538fff471a53668cb10980bb\\n  Stored in directory: /root/.cache/pip/wheels/62/b8/e1/e2719465b5947c40cd85d613d6cb33449b86a1ca5a6c574269\\nSuccessfully built nvidia-ml-py3 pycocotools fusepy pathspec\\nInstalling collected packages: nvidia-ml-py3, nteract-scrapbook, azureml-dataprep-native, distro, dotnetcore2, cloudpickle, fusepy, azureml-dataprep, jmespath, oauthlib, requests-oauthlib, isodate, msrest, PyJWT, adal, msrestazure, azure-common, azure-mgmt-storage, azure-mgmt-keyvault, azure-mgmt-containerregistry, jsonpickle, pathspec, ruamel.yaml, jeepney, SecretStorage, azure-graphrbac, pyasn1, ndg-httpsclient, azure-mgmt-authorization, azure-mgmt-resource, contextlib2, websocket-client, docker, azureml-core, azureml-train-restclients-hyperdrive, applicationinsights, azureml-telemetry, azureml-train-core, azureml-train, azureml-pipeline-core, azureml-pipeline-steps, azureml-pipeline, azureml-contrib-notebook, Werkzeug, itsdangerous, Flask, azureml-contrib-services, azureml-contrib-server, azureml-widgets, azureml-sdk, pycocotools\\nSuccessfully installed Flask-1.1.1 PyJWT-1.7.1 SecretStorage-3.1.1 Werkzeug-0.16.0 adal-1.2.2 applicationinsights-0.11.9 azure-common-1.1.23 azure-graphrbac-0.61.1 azure-mgmt-authorization-0.60.0 azure-mgmt-containerregistry-2.8.0 azure-mgmt-keyvault-2.0.0 azure-mgmt-resource-6.0.0 azure-mgmt-storage-6.0.0 azureml-contrib-notebook-1.0.74 azureml-contrib-server-1.0.74 azureml-contrib-services-1.0.74 azureml-core-1.0.74 azureml-dataprep-1.1.31 azureml-dataprep-native-13.1.0 azureml-pipeline-1.0.74 azureml-pipeline-core-1.0.74 azureml-pipeline-steps-1.0.74 azureml-sdk-1.0.74 azureml-telemetry-1.0.74 azureml-train-1.0.74 azureml-train-core-1.0.74 azureml-train-restclients-hyperdrive-1.0.74 azureml-widgets-1.0.74 cloudpickle-1.2.2 contextlib2-0.6.0.post1 distro-1.4.0 docker-4.1.0 dotnetcore2-2.1.11 fusepy-3.0.1 isodate-0.6.0 itsdangerous-1.1.0 jeepney-0.4.1 jmespath-0.9.4 jsonpickle-1.2 msrest-0.6.10 msrestazure-0.6.2 ndg-httpsclient-0.5.1 nteract-scrapbook-0.3.1 nvidia-ml-py3-7.352.0 oauthlib-3.1.0 pathspec-0.6.0 pyasn1-0.4.7 pycocotools-2.0 requests-oauthlib-1.3.0 ruamel.yaml-0.15.89 websocket-client-0.56.0\\n\\n#\\n# To activate this environment, use\\n#\\n#     $ conda activate cv\\n#\\n# To deactivate an active environment, use\\n#\\n#     $ conda deactivate\\n\\nInstalled kernelspec cv in /usr/local/share/jupyter/kernels/cv\\nc.Authenticator.whitelist = {\\\"mlads1\\\", \\\"mlads2\\\", \\\"mlads3\\\", \\\"mlads4\\\", \\\"mlads5\\\"}\\n\\n[stderr]\\nng\\nsent invalidate(group) request, exiting\\nsent invalidate(passwd) request, exiting\\nsent invalidate(group) request, exiting\\nsent invalidate(passwd) request, exiting\\nsent invalidate(group) request, exiting\\nsent invalidate(passwd) request, exiting\\nsent invalidate(group) request, exiting\\nsent invalidate(passwd) request, exiting\\nsent invalidate(group) request, exiting\\nsent invalidate(passwd) request, exiting\\nsent invalidate(group) request, exiting\\nsent invalidate(passwd) request, exiting\\nsent invalidate(group) request, exiting\\nsent invalidate(passwd) request, exiting\\nsent invalidate(group) request, exiting\\nsent invalidate(passwd) request, exiting\\nsent invalidate(passwd) request, exiting\\nsent invalidate(passwd) request, exiting\\nsent invalidate(group) request, exiting\\nsent invalidate(passwd) request, exiting\\nsent invalidate(group) request, exiting\\nsent invalidate(group) request, exiting\\nsent invalidate(passwd) request, exiting\\nsent invalidate(group) request, exiting\\nsent invalidate(passwd) request, exiting\\nsent invalidate(group) request, exiting\\nsent invalidate(passwd) request, exiting\\nsent invalidate(group) request, exiting\\nsent invalidate(passwd) request, exiting\\nsent invalidate(group) request, exiting\\nsent invalidate(passwd) request, exiting\\nsent invalidate(group) request, exiting\\nsent invalidate(passwd) request, exiting\\nsent invalidate(group) request, exiting\\nsent invalidate(passwd) request, exiting\\nsent invalidate(group) request, exiting\\nsent invalidate(passwd) request, exiting\\nsent invalidate(passwd) request, exiting\\nsent invalidate(passwd) request, exiting\\nsent invalidate(group) request, exiting\\nsent invalidate(passwd) request, exiting\\nsent invalidate(group) request, exiting\\nsent invalidate(group) request, exiting\\nsent invalidate(passwd) request, exiting\\nsent invalidate(group) request, exiting\\nsent invalidate(passwd) request, exiting\\nsent invalidate(group) request, exiting\\nsent invalidate(passwd) request, exiting\\nsent invalidate(group) request, exiting\\nsent invalidate(passwd) request, exiting\\nsent invalidate(group) request, exiting\\nsent invalidate(passwd) request, exiting\\nsent invalidate(group) request, exiting\\nsent invalidate(passwd) request, exiting\\nsent invalidate(group) request, exiting\\nsent invalidate(passwd) request, exiting\\nsent invalidate(group) request, exiting\\nsent invalidate(passwd) request, exiting\\nsent invalidate(passwd) request, exiting\\nsent invalidate(passwd) request, exiting\\nsent invalidate(group) request, exiting\\nsent invalidate(passwd) request, exiting\\nsent invalidate(group) request, exiting\\nsent invalidate(group) request, exiting\\nsent invalidate(passwd) request, exiting\\nsent invalidate(group) request, exiting\\nsent invalidate(passwd) request, exiting\\nsent invalidate(group) request, exiting\\nsent invalidate(passwd) request, exiting\\nsent invalidate(group) request, exiting\\nsent invalidate(passwd) request, exiting\\nsent invalidate(group) request, exiting\\nsent invalidate(passwd) request, exiting\\nsent invalidate(group) request, exiting\\nsent invalidate(passwd) request, exiting\\nsent invalidate(group) request, exiting\\nsent invalidate(passwd) request, exiting\\nsent invalidate(group) request, exiting\\nsent invalidate(passwd) request, exiting\\nsent invalidate(passwd) request, exiting\\nsent invalidate(passwd) request, exiting\\nsent invalidate(group) request, exiting\\nsent invalidate(passwd) request, exiting\\nsent invalidate(group) request, exiting\\nsent invalidate(group) request, exiting\\nsent invalidate(passwd) request, exiting\\nsent invalidate(group) request, exiting\\nsent invalidate(passwd) request, exiting\\nsent invalidate(group) request, exiting\\nsent invalidate(passwd) request, exiting\\nsent invalidate(group) request, exiting\\nsent invalidate(passwd) request, exiting\\nsent invalidate(group) request, exiting\\nsent invalidate(passwd) request, exiting\\nsent invalidate(group) request, exiting\\nsent invalidate(passwd) request, exiting\\nsent invalidate(group) request, exiting\\nsent invalidate(passwd) request, exiting\\nsent invalidate(group) request, exiting\\nsent invalidate(passwd) request, exiting\\nsent invalidate(passwd) request, exiting\\n\",\n",
      "        \"time\": null\n",
      "      }\n",
      "    ]\n",
      "  },\n",
      "  {\n",
      "    \"value\": [\n",
      "      {\n",
      "        \"code\": \"ProvisioningState/succeeded\",\n",
      "        \"displayStatus\": \"Provisioning succeeded\",\n",
      "        \"level\": \"Info\",\n",
      "        \"message\": \"Enable succeeded: \\n[stdout]\\ntebooks\\\"->azureml-sdk[contrib,notebooks]>=1.0.30->-r /root/computervision/tmpjxrs2F.requirements.txt (line 3)) (0.7.1)\\nBuilding wheels for collected packages: nvidia-ml-py3, pycocotools, pathspec, fusepy\\n  Building wheel for nvidia-ml-py3 (setup.py): started\\n  Building wheel for nvidia-ml-py3 (setup.py): finished with status 'done'\\n  Created wheel for nvidia-ml-py3: filename=nvidia_ml_py3-7.352.0-cp36-none-any.whl size=19192 sha256=c15aed18fd515edd310687fd039ea2dbf85563a66408648406d6c62e5185bad9\\n  Stored in directory: /root/.cache/pip/wheels/e4/1d/06/640c93f5270d67d0247f30be91f232700d19023f9e66d735c7\\n  Building wheel for pycocotools (setup.py): started\\n  Building wheel for pycocotools (setup.py): finished with status 'done'\\n  Created wheel for pycocotools: filename=pycocotools-2.0-cp36-cp36m-linux_x86_64.whl size=288539 sha256=3402c61e7dd76ef892d192a7ed968c4f8876601ef8164b714bcc555b99327b66\\n  Stored in directory: /tmp/pip-ephem-wheel-cache-23tlx64a/wheels/69/2b/12/2fa959e49f73d26cff202c2f4e5079096c9c57c8a8509fd75c\\n  Building wheel for pathspec (setup.py): started\\n  Building wheel for pathspec (setup.py): finished with status 'done'\\n  Created wheel for pathspec: filename=pathspec-0.6.0-cp36-none-any.whl size=26671 sha256=c165f43d5b4f60dcb4854d48445cb59f77178f54cfede2dbd06c63081860ea71\\n  Stored in directory: /root/.cache/pip/wheels/62/b8/e1/e2719465b5947c40cd85d613d6cb33449b86a1ca5a6c574269\\n  Building wheel for fusepy (setup.py): started\\n  Building wheel for fusepy (setup.py): finished with status 'done'\\n  Created wheel for fusepy: filename=fusepy-3.0.1-cp36-none-any.whl size=10505 sha256=1325f8b780ebf1f941953c6c2c5bcb11cc8060b7a840e4464516e95fe34fc74c\\n  Stored in directory: /root/.cache/pip/wheels/4c/a5/91/7772af9e21c461f07bb40f26d928d7d231d224977dd8353bab\\nSuccessfully built nvidia-ml-py3 pycocotools pathspec fusepy\\nInstalling collected packages: nvidia-ml-py3, nteract-scrapbook, applicationinsights, azureml-telemetry, ruamel.yaml, azure-common, isodate, oauthlib, requests-oauthlib, msrest, PyJWT, adal, msrestazure, azure-mgmt-resource, jsonpickle, azure-mgmt-keyvault, jmespath, azure-mgmt-storage, jeepney, SecretStorage, azure-mgmt-authorization, pathspec, azure-mgmt-containerregistry, contextlib2, websocket-client, docker, pyasn1, ndg-httpsclient, azure-graphrbac, azureml-core, azureml-train-restclients-hyperdrive, azureml-train-core, azureml-train, azureml-pipeline-core, azureml-pipeline-steps, azureml-pipeline, cloudpickle, azureml-dataprep-native, distro, dotnetcore2, fusepy, azureml-dataprep, azureml-contrib-server, azureml-contrib-notebook, itsdangerous, Werkzeug, Flask, azureml-contrib-services, azureml-widgets, azureml-sdk, pycocotools\\nSuccessfully installed Flask-1.1.1 PyJWT-1.7.1 SecretStorage-3.1.1 Werkzeug-0.16.0 adal-1.2.2 applicationinsights-0.11.9 azure-common-1.1.23 azure-graphrbac-0.61.1 azure-mgmt-authorization-0.60.0 azure-mgmt-containerregistry-2.8.0 azure-mgmt-keyvault-2.0.0 azure-mgmt-resource-6.0.0 azure-mgmt-storage-6.0.0 azureml-contrib-notebook-1.0.74 azureml-contrib-server-1.0.74 azureml-contrib-services-1.0.74 azureml-core-1.0.74 azureml-dataprep-1.1.31 azureml-dataprep-native-13.1.0 azureml-pipeline-1.0.74 azureml-pipeline-core-1.0.74 azureml-pipeline-steps-1.0.74 azureml-sdk-1.0.74 azureml-telemetry-1.0.74 azureml-train-1.0.74 azureml-train-core-1.0.74 azureml-train-restclients-hyperdrive-1.0.74 azureml-widgets-1.0.74 cloudpickle-1.2.2 contextlib2-0.6.0.post1 distro-1.4.0 docker-4.1.0 dotnetcore2-2.1.11 fusepy-3.0.1 isodate-0.6.0 itsdangerous-1.1.0 jeepney-0.4.1 jmespath-0.9.4 jsonpickle-1.2 msrest-0.6.10 msrestazure-0.6.2 ndg-httpsclient-0.5.1 nteract-scrapbook-0.3.1 nvidia-ml-py3-7.352.0 oauthlib-3.1.0 pathspec-0.6.0 pyasn1-0.4.7 pycocotools-2.0 requests-oauthlib-1.3.0 ruamel.yaml-0.15.89 websocket-client-0.56.0\\n\\n#\\n# To activate this environment, use\\n#\\n#     $ conda activate cv\\n#\\n# To deactivate an active environment, use\\n#\\n#     $ conda deactivate\\n\\nInstalled kernelspec cv in /usr/local/share/jupyter/kernels/cv\\nc.Authenticator.whitelist = {\\\"mlads1\\\", \\\"mlads2\\\", \\\"mlads3\\\", \\\"mlads4\\\", \\\"mlads5\\\"}\\n\\n[stderr]\\nng\\nsent invalidate(group) request, exiting\\nsent invalidate(passwd) request, exiting\\nsent invalidate(group) request, exiting\\nsent invalidate(passwd) request, exiting\\nsent invalidate(group) request, exiting\\nsent invalidate(passwd) request, exiting\\nsent invalidate(group) request, exiting\\nsent invalidate(passwd) request, exiting\\nsent invalidate(group) request, exiting\\nsent invalidate(passwd) request, exiting\\nsent invalidate(group) request, exiting\\nsent invalidate(passwd) request, exiting\\nsent invalidate(group) request, exiting\\nsent invalidate(passwd) request, exiting\\nsent invalidate(group) request, exiting\\nsent invalidate(passwd) request, exiting\\nsent invalidate(passwd) request, exiting\\nsent invalidate(passwd) request, exiting\\nsent invalidate(group) request, exiting\\nsent invalidate(passwd) request, exiting\\nsent invalidate(group) request, exiting\\nsent invalidate(group) request, exiting\\nsent invalidate(passwd) request, exiting\\nsent invalidate(group) request, exiting\\nsent invalidate(passwd) request, exiting\\nsent invalidate(group) request, exiting\\nsent invalidate(passwd) request, exiting\\nsent invalidate(group) request, exiting\\nsent invalidate(passwd) request, exiting\\nsent invalidate(group) request, exiting\\nsent invalidate(passwd) request, exiting\\nsent invalidate(group) request, exiting\\nsent invalidate(passwd) request, exiting\\nsent invalidate(group) request, exiting\\nsent invalidate(passwd) request, exiting\\nsent invalidate(group) request, exiting\\nsent invalidate(passwd) request, exiting\\nsent invalidate(passwd) request, exiting\\nsent invalidate(passwd) request, exiting\\nsent invalidate(group) request, exiting\\nsent invalidate(passwd) request, exiting\\nsent invalidate(group) request, exiting\\nsent invalidate(group) request, exiting\\nsent invalidate(passwd) request, exiting\\nsent invalidate(group) request, exiting\\nsent invalidate(passwd) request, exiting\\nsent invalidate(group) request, exiting\\nsent invalidate(passwd) request, exiting\\nsent invalidate(group) request, exiting\\nsent invalidate(passwd) request, exiting\\nsent invalidate(group) request, exiting\\nsent invalidate(passwd) request, exiting\\nsent invalidate(group) request, exiting\\nsent invalidate(passwd) request, exiting\\nsent invalidate(group) request, exiting\\nsent invalidate(passwd) request, exiting\\nsent invalidate(group) request, exiting\\nsent invalidate(passwd) request, exiting\\nsent invalidate(passwd) request, exiting\\nsent invalidate(passwd) request, exiting\\nsent invalidate(group) request, exiting\\nsent invalidate(passwd) request, exiting\\nsent invalidate(group) request, exiting\\nsent invalidate(group) request, exiting\\nsent invalidate(passwd) request, exiting\\nsent invalidate(group) request, exiting\\nsent invalidate(passwd) request, exiting\\nsent invalidate(group) request, exiting\\nsent invalidate(passwd) request, exiting\\nsent invalidate(group) request, exiting\\nsent invalidate(passwd) request, exiting\\nsent invalidate(group) request, exiting\\nsent invalidate(passwd) request, exiting\\nsent invalidate(group) request, exiting\\nsent invalidate(passwd) request, exiting\\nsent invalidate(group) request, exiting\\nsent invalidate(passwd) request, exiting\\nsent invalidate(group) request, exiting\\nsent invalidate(passwd) request, exiting\\nsent invalidate(passwd) request, exiting\\nsent invalidate(passwd) request, exiting\\nsent invalidate(group) request, exiting\\nsent invalidate(passwd) request, exiting\\nsent invalidate(group) request, exiting\\nsent invalidate(group) request, exiting\\nsent invalidate(passwd) request, exiting\\nsent invalidate(group) request, exiting\\nsent invalidate(passwd) request, exiting\\nsent invalidate(group) request, exiting\\nsent invalidate(passwd) request, exiting\\nsent invalidate(group) request, exiting\\nsent invalidate(passwd) request, exiting\\nsent invalidate(group) request, exiting\\nsent invalidate(passwd) request, exiting\\nsent invalidate(group) request, exiting\\nsent invalidate(passwd) request, exiting\\nsent invalidate(group) request, exiting\\nsent invalidate(passwd) request, exiting\\nsent invalidate(group) request, exiting\\nsent invalidate(passwd) request, exiting\\nsent invalidate(passwd) request, exiting\\n\",\n",
      "        \"time\": null\n",
      "      }\n",
      "    ]\n",
      "  },\n",
      "  {\n",
      "    \"value\": [\n",
      "      {\n",
      "        \"code\": \"ProvisioningState/succeeded\",\n",
      "        \"displayStatus\": \"Provisioning succeeded\",\n",
      "        \"level\": \"Info\",\n",
      "        \"message\": \"Enable succeeded: \\n[stdout]\\ntebooks\\\"->azureml-sdk[contrib,notebooks]>=1.0.30->-r /root/computervision/tmpK2NPsQ.requirements.txt (line 3)) (0.7.1)\\nBuilding wheels for collected packages: nvidia-ml-py3, pycocotools, fusepy, pathspec\\n  Building wheel for nvidia-ml-py3 (setup.py): started\\n  Building wheel for nvidia-ml-py3 (setup.py): finished with status 'done'\\n  Created wheel for nvidia-ml-py3: filename=nvidia_ml_py3-7.352.0-cp36-none-any.whl size=19192 sha256=d03fb506f7abd5704dce5ce40cde8349c18fff1193453766dfab8e8522fbf906\\n  Stored in directory: /root/.cache/pip/wheels/e4/1d/06/640c93f5270d67d0247f30be91f232700d19023f9e66d735c7\\n  Building wheel for pycocotools (setup.py): started\\n  Building wheel for pycocotools (setup.py): finished with status 'done'\\n  Created wheel for pycocotools: filename=pycocotools-2.0-cp36-cp36m-linux_x86_64.whl size=288537 sha256=f3fdca516c20674f9469ba9998e827c2ef81a1401926ddfbdc88c3c1dc1a50a3\\n  Stored in directory: /tmp/pip-ephem-wheel-cache-4sov69qq/wheels/69/2b/12/2fa959e49f73d26cff202c2f4e5079096c9c57c8a8509fd75c\\n  Building wheel for fusepy (setup.py): started\\n  Building wheel for fusepy (setup.py): finished with status 'done'\\n  Created wheel for fusepy: filename=fusepy-3.0.1-cp36-none-any.whl size=10505 sha256=9fd4369af6424f9b5716821ec7bae7667b8f95951c191643f686168440a28d60\\n  Stored in directory: /root/.cache/pip/wheels/4c/a5/91/7772af9e21c461f07bb40f26d928d7d231d224977dd8353bab\\n  Building wheel for pathspec (setup.py): started\\n  Building wheel for pathspec (setup.py): finished with status 'done'\\n  Created wheel for pathspec: filename=pathspec-0.6.0-cp36-none-any.whl size=26671 sha256=ca78af299afc193e48fe5b4de31add35c9b10c534274f3ecb526f6ac5b6e540f\\n  Stored in directory: /root/.cache/pip/wheels/62/b8/e1/e2719465b5947c40cd85d613d6cb33449b86a1ca5a6c574269\\nSuccessfully built nvidia-ml-py3 pycocotools fusepy pathspec\\nInstalling collected packages: nvidia-ml-py3, nteract-scrapbook, azureml-dataprep-native, cloudpickle, distro, dotnetcore2, fusepy, azureml-dataprep, ruamel.yaml, jsonpickle, jeepney, SecretStorage, oauthlib, requests-oauthlib, isodate, msrest, azure-common, PyJWT, adal, msrestazure, azure-graphrbac, pyasn1, ndg-httpsclient, contextlib2, websocket-client, docker, pathspec, azure-mgmt-keyvault, azure-mgmt-containerregistry, azure-mgmt-authorization, jmespath, azure-mgmt-storage, azure-mgmt-resource, azureml-core, azureml-pipeline-core, azureml-train-restclients-hyperdrive, applicationinsights, azureml-telemetry, azureml-train-core, azureml-pipeline-steps, azureml-pipeline, azureml-train, azureml-contrib-notebook, azureml-contrib-server, Werkzeug, itsdangerous, Flask, azureml-contrib-services, azureml-widgets, azureml-sdk, pycocotools\\nSuccessfully installed Flask-1.1.1 PyJWT-1.7.1 SecretStorage-3.1.1 Werkzeug-0.16.0 adal-1.2.2 applicationinsights-0.11.9 azure-common-1.1.23 azure-graphrbac-0.61.1 azure-mgmt-authorization-0.60.0 azure-mgmt-containerregistry-2.8.0 azure-mgmt-keyvault-2.0.0 azure-mgmt-resource-6.0.0 azure-mgmt-storage-6.0.0 azureml-contrib-notebook-1.0.74 azureml-contrib-server-1.0.74 azureml-contrib-services-1.0.74 azureml-core-1.0.74 azureml-dataprep-1.1.31 azureml-dataprep-native-13.1.0 azureml-pipeline-1.0.74 azureml-pipeline-core-1.0.74 azureml-pipeline-steps-1.0.74 azureml-sdk-1.0.74 azureml-telemetry-1.0.74 azureml-train-1.0.74 azureml-train-core-1.0.74 azureml-train-restclients-hyperdrive-1.0.74 azureml-widgets-1.0.74 cloudpickle-1.2.2 contextlib2-0.6.0.post1 distro-1.4.0 docker-4.1.0 dotnetcore2-2.1.11 fusepy-3.0.1 isodate-0.6.0 itsdangerous-1.1.0 jeepney-0.4.1 jmespath-0.9.4 jsonpickle-1.2 msrest-0.6.10 msrestazure-0.6.2 ndg-httpsclient-0.5.1 nteract-scrapbook-0.3.1 nvidia-ml-py3-7.352.0 oauthlib-3.1.0 pathspec-0.6.0 pyasn1-0.4.7 pycocotools-2.0 requests-oauthlib-1.3.0 ruamel.yaml-0.15.89 websocket-client-0.56.0\\n\\n#\\n# To activate this environment, use\\n#\\n#     $ conda activate cv\\n#\\n# To deactivate an active environment, use\\n#\\n#     $ conda deactivate\\n\\nInstalled kernelspec cv in /usr/local/share/jupyter/kernels/cv\\nc.Authenticator.whitelist = {\\\"mlads1\\\", \\\"mlads2\\\", \\\"mlads3\\\", \\\"mlads4\\\", \\\"mlads5\\\"}\\n\\n[stderr]\\nng\\nsent invalidate(group) request, exiting\\nsent invalidate(passwd) request, exiting\\nsent invalidate(group) request, exiting\\nsent invalidate(passwd) request, exiting\\nsent invalidate(group) request, exiting\\nsent invalidate(passwd) request, exiting\\nsent invalidate(group) request, exiting\\nsent invalidate(passwd) request, exiting\\nsent invalidate(group) request, exiting\\nsent invalidate(passwd) request, exiting\\nsent invalidate(group) request, exiting\\nsent invalidate(passwd) request, exiting\\nsent invalidate(group) request, exiting\\nsent invalidate(passwd) request, exiting\\nsent invalidate(group) request, exiting\\nsent invalidate(passwd) request, exiting\\nsent invalidate(passwd) request, exiting\\nsent invalidate(passwd) request, exiting\\nsent invalidate(group) request, exiting\\nsent invalidate(passwd) request, exiting\\nsent invalidate(group) request, exiting\\nsent invalidate(group) request, exiting\\nsent invalidate(passwd) request, exiting\\nsent invalidate(group) request, exiting\\nsent invalidate(passwd) request, exiting\\nsent invalidate(group) request, exiting\\nsent invalidate(passwd) request, exiting\\nsent invalidate(group) request, exiting\\nsent invalidate(passwd) request, exiting\\nsent invalidate(group) request, exiting\\nsent invalidate(passwd) request, exiting\\nsent invalidate(group) request, exiting\\nsent invalidate(passwd) request, exiting\\nsent invalidate(group) request, exiting\\nsent invalidate(passwd) request, exiting\\nsent invalidate(group) request, exiting\\nsent invalidate(passwd) request, exiting\\nsent invalidate(passwd) request, exiting\\nsent invalidate(passwd) request, exiting\\nsent invalidate(group) request, exiting\\nsent invalidate(passwd) request, exiting\\nsent invalidate(group) request, exiting\\nsent invalidate(group) request, exiting\\nsent invalidate(passwd) request, exiting\\nsent invalidate(group) request, exiting\\nsent invalidate(passwd) request, exiting\\nsent invalidate(group) request, exiting\\nsent invalidate(passwd) request, exiting\\nsent invalidate(group) request, exiting\\nsent invalidate(passwd) request, exiting\\nsent invalidate(group) request, exiting\\nsent invalidate(passwd) request, exiting\\nsent invalidate(group) request, exiting\\nsent invalidate(passwd) request, exiting\\nsent invalidate(group) request, exiting\\nsent invalidate(passwd) request, exiting\\nsent invalidate(group) request, exiting\\nsent invalidate(passwd) request, exiting\\nsent invalidate(passwd) request, exiting\\nsent invalidate(passwd) request, exiting\\nsent invalidate(group) request, exiting\\nsent invalidate(passwd) request, exiting\\nsent invalidate(group) request, exiting\\nsent invalidate(group) request, exiting\\nsent invalidate(passwd) request, exiting\\nsent invalidate(group) request, exiting\\nsent invalidate(passwd) request, exiting\\nsent invalidate(group) request, exiting\\nsent invalidate(passwd) request, exiting\\nsent invalidate(group) request, exiting\\nsent invalidate(passwd) request, exiting\\nsent invalidate(group) request, exiting\\nsent invalidate(passwd) request, exiting\\nsent invalidate(group) request, exiting\\nsent invalidate(passwd) request, exiting\\nsent invalidate(group) request, exiting\\nsent invalidate(passwd) request, exiting\\nsent invalidate(group) request, exiting\\nsent invalidate(passwd) request, exiting\\nsent invalidate(passwd) request, exiting\\nsent invalidate(passwd) request, exiting\\nsent invalidate(group) request, exiting\\nsent invalidate(passwd) request, exiting\\nsent invalidate(group) request, exiting\\nsent invalidate(group) request, exiting\\nsent invalidate(passwd) request, exiting\\nsent invalidate(group) request, exiting\\nsent invalidate(passwd) request, exiting\\nsent invalidate(group) request, exiting\\nsent invalidate(passwd) request, exiting\\nsent invalidate(group) request, exiting\\nsent invalidate(passwd) request, exiting\\nsent invalidate(group) request, exiting\\nsent invalidate(passwd) request, exiting\\nsent invalidate(group) request, exiting\\nsent invalidate(passwd) request, exiting\\nsent invalidate(group) request, exiting\\nsent invalidate(passwd) request, exiting\\nsent invalidate(group) request, exiting\\nsent invalidate(passwd) request, exiting\\nsent invalidate(passwd) request, exiting\\n\",\n",
      "        \"time\": null\n",
      "      }\n",
      "    ]\n",
      "  },\n",
      "  {\n",
      "    \"value\": [\n",
      "      {\n",
      "        \"code\": \"ProvisioningState/succeeded\",\n",
      "        \"displayStatus\": \"Provisioning succeeded\",\n",
      "        \"level\": \"Info\",\n",
      "        \"message\": \"Enable succeeded: \\n[stdout]\\ntebooks\\\"->azureml-sdk[contrib,notebooks]>=1.0.30->-r /root/computervision/tmpFHwyFF.requirements.txt (line 3)) (1.5.0)\\nBuilding wheels for collected packages: nvidia-ml-py3, pycocotools, pathspec, fusepy\\n  Building wheel for nvidia-ml-py3 (setup.py): started\\n  Building wheel for nvidia-ml-py3 (setup.py): finished with status 'done'\\n  Created wheel for nvidia-ml-py3: filename=nvidia_ml_py3-7.352.0-cp36-none-any.whl size=19192 sha256=a138c4a5523b0eba84d10ba4680358ba5b519ee67ee6cadf1caf9021322ea076\\n  Stored in directory: /root/.cache/pip/wheels/e4/1d/06/640c93f5270d67d0247f30be91f232700d19023f9e66d735c7\\n  Building wheel for pycocotools (setup.py): started\\n  Building wheel for pycocotools (setup.py): finished with status 'done'\\n  Created wheel for pycocotools: filename=pycocotools-2.0-cp36-cp36m-linux_x86_64.whl size=288540 sha256=58b79b922a53a11df6caecb6feef78565d9acfa4a161470820fb88843a290737\\n  Stored in directory: /tmp/pip-ephem-wheel-cache-679mxgbm/wheels/69/2b/12/2fa959e49f73d26cff202c2f4e5079096c9c57c8a8509fd75c\\n  Building wheel for pathspec (setup.py): started\\n  Building wheel for pathspec (setup.py): finished with status 'done'\\n  Created wheel for pathspec: filename=pathspec-0.6.0-cp36-none-any.whl size=26671 sha256=820156594e4fd4ebe6d585f16eba423f548d617f7f7d8ec0af036e8547572a02\\n  Stored in directory: /root/.cache/pip/wheels/62/b8/e1/e2719465b5947c40cd85d613d6cb33449b86a1ca5a6c574269\\n  Building wheel for fusepy (setup.py): started\\n  Building wheel for fusepy (setup.py): finished with status 'done'\\n  Created wheel for fusepy: filename=fusepy-3.0.1-cp36-none-any.whl size=10505 sha256=1325f8b780ebf1f941953c6c2c5bcb11cc8060b7a840e4464516e95fe34fc74c\\n  Stored in directory: /root/.cache/pip/wheels/4c/a5/91/7772af9e21c461f07bb40f26d928d7d231d224977dd8353bab\\nSuccessfully built nvidia-ml-py3 pycocotools pathspec fusepy\\nInstalling collected packages: nvidia-ml-py3, nteract-scrapbook, applicationinsights, azureml-telemetry, oauthlib, requests-oauthlib, isodate, msrest, azure-common, PyJWT, adal, msrestazure, azure-graphrbac, contextlib2, pyasn1, ndg-httpsclient, azure-mgmt-containerregistry, pathspec, jeepney, SecretStorage, jsonpickle, ruamel.yaml, azure-mgmt-keyvault, azure-mgmt-authorization, azure-mgmt-storage, websocket-client, docker, azure-mgmt-resource, jmespath, azureml-core, azureml-train-restclients-hyperdrive, azureml-train-core, azureml-pipeline-core, azureml-pipeline-steps, azureml-pipeline, azureml-train, distro, dotnetcore2, cloudpickle, azureml-dataprep-native, fusepy, azureml-dataprep, azureml-contrib-server, itsdangerous, Werkzeug, Flask, azureml-contrib-services, azureml-contrib-notebook, azureml-widgets, azureml-sdk, pycocotools\\nSuccessfully installed Flask-1.1.1 PyJWT-1.7.1 SecretStorage-3.1.1 Werkzeug-0.16.0 adal-1.2.2 applicationinsights-0.11.9 azure-common-1.1.23 azure-graphrbac-0.61.1 azure-mgmt-authorization-0.60.0 azure-mgmt-containerregistry-2.8.0 azure-mgmt-keyvault-2.0.0 azure-mgmt-resource-6.0.0 azure-mgmt-storage-6.0.0 azureml-contrib-notebook-1.0.74 azureml-contrib-server-1.0.74 azureml-contrib-services-1.0.74 azureml-core-1.0.74 azureml-dataprep-1.1.31 azureml-dataprep-native-13.1.0 azureml-pipeline-1.0.74 azureml-pipeline-core-1.0.74 azureml-pipeline-steps-1.0.74 azureml-sdk-1.0.74 azureml-telemetry-1.0.74 azureml-train-1.0.74 azureml-train-core-1.0.74 azureml-train-restclients-hyperdrive-1.0.74 azureml-widgets-1.0.74 cloudpickle-1.2.2 contextlib2-0.6.0.post1 distro-1.4.0 docker-4.1.0 dotnetcore2-2.1.11 fusepy-3.0.1 isodate-0.6.0 itsdangerous-1.1.0 jeepney-0.4.1 jmespath-0.9.4 jsonpickle-1.2 msrest-0.6.10 msrestazure-0.6.2 ndg-httpsclient-0.5.1 nteract-scrapbook-0.3.1 nvidia-ml-py3-7.352.0 oauthlib-3.1.0 pathspec-0.6.0 pyasn1-0.4.7 pycocotools-2.0 requests-oauthlib-1.3.0 ruamel.yaml-0.15.89 websocket-client-0.56.0\\n\\n#\\n# To activate this environment, use\\n#\\n#     $ conda activate cv\\n#\\n# To deactivate an active environment, use\\n#\\n#     $ conda deactivate\\n\\nInstalled kernelspec cv in /usr/local/share/jupyter/kernels/cv\\nc.Authenticator.whitelist = {\\\"mlads1\\\", \\\"mlads2\\\", \\\"mlads3\\\", \\\"mlads4\\\", \\\"mlads5\\\"}\\n\\n[stderr]\\nng\\nsent invalidate(group) request, exiting\\nsent invalidate(passwd) request, exiting\\nsent invalidate(group) request, exiting\\nsent invalidate(passwd) request, exiting\\nsent invalidate(group) request, exiting\\nsent invalidate(passwd) request, exiting\\nsent invalidate(group) request, exiting\\nsent invalidate(passwd) request, exiting\\nsent invalidate(group) request, exiting\\nsent invalidate(passwd) request, exiting\\nsent invalidate(group) request, exiting\\nsent invalidate(passwd) request, exiting\\nsent invalidate(group) request, exiting\\nsent invalidate(passwd) request, exiting\\nsent invalidate(group) request, exiting\\nsent invalidate(passwd) request, exiting\\nsent invalidate(passwd) request, exiting\\nsent invalidate(passwd) request, exiting\\nsent invalidate(group) request, exiting\\nsent invalidate(passwd) request, exiting\\nsent invalidate(group) request, exiting\\nsent invalidate(group) request, exiting\\nsent invalidate(passwd) request, exiting\\nsent invalidate(group) request, exiting\\nsent invalidate(passwd) request, exiting\\nsent invalidate(group) request, exiting\\nsent invalidate(passwd) request, exiting\\nsent invalidate(group) request, exiting\\nsent invalidate(passwd) request, exiting\\nsent invalidate(group) request, exiting\\nsent invalidate(passwd) request, exiting\\nsent invalidate(group) request, exiting\\nsent invalidate(passwd) request, exiting\\nsent invalidate(group) request, exiting\\nsent invalidate(passwd) request, exiting\\nsent invalidate(group) request, exiting\\nsent invalidate(passwd) request, exiting\\nsent invalidate(passwd) request, exiting\\nsent invalidate(passwd) request, exiting\\nsent invalidate(group) request, exiting\\nsent invalidate(passwd) request, exiting\\nsent invalidate(group) request, exiting\\nsent invalidate(group) request, exiting\\nsent invalidate(passwd) request, exiting\\nsent invalidate(group) request, exiting\\nsent invalidate(passwd) request, exiting\\nsent invalidate(group) request, exiting\\nsent invalidate(passwd) request, exiting\\nsent invalidate(group) request, exiting\\nsent invalidate(passwd) request, exiting\\nsent invalidate(group) request, exiting\\nsent invalidate(passwd) request, exiting\\nsent invalidate(group) request, exiting\\nsent invalidate(passwd) request, exiting\\nsent invalidate(group) request, exiting\\nsent invalidate(passwd) request, exiting\\nsent invalidate(group) request, exiting\\nsent invalidate(passwd) request, exiting\\nsent invalidate(passwd) request, exiting\\nsent invalidate(passwd) request, exiting\\nsent invalidate(group) request, exiting\\nsent invalidate(passwd) request, exiting\\nsent invalidate(group) request, exiting\\nsent invalidate(group) request, exiting\\nsent invalidate(passwd) request, exiting\\nsent invalidate(group) request, exiting\\nsent invalidate(passwd) request, exiting\\nsent invalidate(group) request, exiting\\nsent invalidate(passwd) request, exiting\\nsent invalidate(group) request, exiting\\nsent invalidate(passwd) request, exiting\\nsent invalidate(group) request, exiting\\nsent invalidate(passwd) request, exiting\\nsent invalidate(group) request, exiting\\nsent invalidate(passwd) request, exiting\\nsent invalidate(group) request, exiting\\nsent invalidate(passwd) request, exiting\\nsent invalidate(group) request, exiting\\nsent invalidate(passwd) request, exiting\\nsent invalidate(passwd) request, exiting\\nsent invalidate(passwd) request, exiting\\nsent invalidate(group) request, exiting\\nsent invalidate(passwd) request, exiting\\nsent invalidate(group) request, exiting\\nsent invalidate(group) request, exiting\\nsent invalidate(passwd) request, exiting\\nsent invalidate(group) request, exiting\\nsent invalidate(passwd) request, exiting\\nsent invalidate(group) request, exiting\\nsent invalidate(passwd) request, exiting\\nsent invalidate(group) request, exiting\\nsent invalidate(passwd) request, exiting\\nsent invalidate(group) request, exiting\\nsent invalidate(passwd) request, exiting\\nsent invalidate(group) request, exiting\\nsent invalidate(passwd) request, exiting\\nsent invalidate(group) request, exiting\\nsent invalidate(passwd) request, exiting\\nsent invalidate(group) request, exiting\\nsent invalidate(passwd) request, exiting\\nsent invalidate(passwd) request, exiting\\n\",\n",
      "        \"time\": null\n",
      "      }\n",
      "    ]\n",
      "  }\n",
      "]\n",
      "\u001b[0m"
     ]
    }
   ],
   "source": [
    "!az vmss list-instances -n {VMSS_NAME} -g {RG_NAME} --query \"[].id\" --output tsv | az vmss run-command invoke --command-id RunShellScript --scripts @{SCRIPT} --ids @- "
   ]
  },
  {
   "cell_type": "code",
   "execution_count": null,
   "metadata": {},
   "outputs": [],
   "source": []
  }
 ],
 "metadata": {
  "kernelspec": {
   "display_name": "Python (cv)",
   "language": "python",
   "name": "cv"
  },
  "language_info": {
   "codemirror_mode": {
    "name": "ipython",
    "version": 3
   },
   "file_extension": ".py",
   "mimetype": "text/x-python",
   "name": "python",
   "nbconvert_exporter": "python",
   "pygments_lexer": "ipython3",
   "version": "3.6.8"
  }
 },
 "nbformat": 4,
 "nbformat_minor": 2
}

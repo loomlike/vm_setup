{
 "cells": [
  {
   "cell_type": "markdown",
   "metadata": {
    "pycharm": {
     "name": "#%% md\n"
    }
   },
   "source": [
    "<i>Authors:</i><br>\n",
    "<i>- Jun Ki Min (https://github.com/loomlike)</i><br>\n",
    "<i>- JS Tan (https://github.com/jiata)</i>\n",
    "\n"
   ]
  },
  {
   "cell_type": "markdown",
   "metadata": {},
   "source": [
    "# Setup Multiple Virtual Machines with Multiple Users\n",
    "\n",
    "This notebook shows how to setup multiple Data Science Virtual Machines (DSVMs) with multiple user accounts.\n",
    "More specifically, it deploys Azure VMSS (Virtual Machine Scale Set) and invokes the post-deployment-script on each VM instance\n",
    "to:\n",
    "1. Clone an example project repository,\n",
    "1. Setup conda environment for the project, and\n",
    "1. Create multiple JupyterHub users (Each user can access JupyterHub by opening `https://vm-ip-address:8000`)\n",
    "\n",
    "## Requirements\n",
    "* Azure CLI (https://docs.microsoft.com/en-us/cli/azure/install-azure-cli?view=azure-cli-latest)\n",
    "* Python v3.5 or greater\n",
    "\n",
    "## Azure CLI Setup"
   ]
  },
  {
   "cell_type": "code",
   "execution_count": null,
   "metadata": {},
   "outputs": [],
   "source": [
    "!az login"
   ]
  },
  {
   "cell_type": "markdown",
   "metadata": {},
   "source": [
    "Set following parameters"
   ]
  },
  {
   "cell_type": "code",
   "execution_count": null,
   "metadata": {},
   "outputs": [],
   "source": [
    "AZURE_SUBSCRIPTION_ID = \"your-subsription-id\"\n",
    "LOCATION = \"location-to-deploy\"  # e.g. australiaeast\n",
    "VM_SIZE = \"your-dsvm-size\"  # e.g. Standard_NC6s_v3\n",
    "RG_NAME = \"your-resource-group-name\"\n",
    "ADMIN_ID = \"your-admin-id-to-use\"\n",
    "ADMIN_PW = \"your-admin-password-to-use\"\n",
    "\n",
    "# Number of VM instances in a scale set\n",
    "NUM_VM = 2\n",
    "NUM_USERS = 2"
   ]
  },
  {
   "cell_type": "code",
   "execution_count": null,
   "metadata": {},
   "outputs": [],
   "source": [
    "!az account set -s {AZURE_SUBSCRIPTION_ID}"
   ]
  },
  {
   "cell_type": "code",
   "execution_count": null,
   "metadata": {},
   "outputs": [],
   "source": [
    "!az account show"
   ]
  },
  {
   "cell_type": "markdown",
   "metadata": {},
   "source": [
    "## Create VMSS"
   ]
  },
  {
   "cell_type": "code",
   "execution_count": null,
   "metadata": {},
   "outputs": [],
   "source": [
    "VMSS_NAME = \"{}-vmss\".format(RG_NAME)"
   ]
  },
  {
   "cell_type": "code",
   "execution_count": null,
   "metadata": {},
   "outputs": [],
   "source": [
    "!az group create --name {RG_NAME} --location {LOCATION}"
   ]
  },
  {
   "cell_type": "code",
   "execution_count": null,
   "metadata": {},
   "outputs": [],
   "source": [
    "# Setup public-ip for each vm by using `--public-ip-per-vm` parameter\n",
    "!az vmss create -g {RG_NAME} -n {VMSS_NAME} --instance-count {NUM_VM} --image microsoft-dsvm:linux-data-science-vm-ubuntu:linuxdsvmubuntu:latest --vm-sku {VM_SIZE} --public-ip-per-vm --admin-username {ADMIN_ID} --admin-password {ADMIN_PW}"
   ]
  },
  {
   "cell_type": "code",
   "execution_count": null,
   "metadata": {},
   "outputs": [],
   "source": [
    "# Check public ip addresses of the instances\n",
    "!az vmss list-instance-public-ips --resource-group {RG_NAME} --name {VMSS_NAME} | grep 'ipAddress'"
   ]
  },
  {
   "cell_type": "markdown",
   "metadata": {},
   "source": [
    "## Create User Accounts and Environment Setup\n",
    "\n",
    "Edit following scripts to fit your use-case. In this example, we:\n",
    "1. Clone the microsoft/computervision repository,\n",
    "1. Create a conda environment and its jupyter kernel,\n",
    "1. Create jupyterhub users and copy the repository to each user's local folder"
   ]
  },
  {
   "cell_type": "code",
   "execution_count": null,
   "metadata": {},
   "outputs": [],
   "source": [
    "SCRIPT = \"vm_user_env_setup.sh\"\n",
    "\n",
    "users = \"\\\", \\\"\".join([\"user{}\".format(u) for u in range(1, NUM_USERS+1)])\n",
    "setup_sh = \"\"\"#!/bin/bash\n",
    "cd /data\n",
    "\n",
    "# clone repo and install the conda env \n",
    "git clone https://www.github.com/microsoft/computervision \n",
    "# change permission as we copy this into each user's folder\n",
    "chmod -R ugo+rwx /data/computervision\n",
    "\n",
    "# enable conda if not done yet\n",
    ". /data/anaconda/etc/profile.d/conda.sh\n",
    "\n",
    "# create conda env and kernel\n",
    "conda env create -f /data/computervision/environment.yml --name cv\n",
    "conda activate cv \n",
    "python -m ipykernel install --name cv --display-name \"MLADS CV LAB\" \n",
    "\n",
    "# add users to jupyterhub\n",
    "echo 'c.Authenticator.whitelist = {{\"{users}\"}}' | tee -a /etc/jupyterhub/jupyterhub_config.py\n",
    "\n",
    "# create the users on the vm \n",
    "for i in $(seq {num_users})\n",
    "do\n",
    "    USERNAME=user$i\n",
    "    PASSWORD=password$i\n",
    "    adduser --quiet --disabled-password --gecos \"\" $USERNAME\n",
    "    echo \"$USERNAME:$PASSWORD\" | chpasswd\n",
    "    rm -rf /data/home/$USERNAME/notebooks/*\n",
    "    # copy repo\n",
    "    cp -ar /data/computervision /data/home/$USERNAME/notebooks\n",
    "done\n",
    "\n",
    "# restart jupyterhub service\n",
    "systemctl stop jupyterhub \n",
    "systemctl start jupyterhub \n",
    "\n",
    "exit\n",
    "\"\"\".format(\n",
    "    admin_id=ADMIN_ID,\n",
    "    users=users,\n",
    "    num_users=NUM_USERS,\n",
    ")\n",
    "\n",
    "with open(SCRIPT, \"w\") as f:\n",
    "    f.write(setup_sh)"
   ]
  },
  {
   "cell_type": "code",
   "execution_count": null,
   "metadata": {
    "scrolled": false
   },
   "outputs": [],
   "source": [
    "!az vmss list-instances -n {VMSS_NAME} -g {RG_NAME} --query \"[].id\" --output tsv | az vmss run-command invoke --command-id RunShellScript --scripts @{SCRIPT} --ids @- "
   ]
  },
  {
   "cell_type": "code",
   "execution_count": null,
   "metadata": {},
   "outputs": [],
   "source": []
  }
 ],
 "metadata": {
  "kernelspec": {
   "display_name": "Python (cv)",
   "language": "python",
   "name": "cv"
  },
  "language_info": {
   "codemirror_mode": {
    "name": "ipython",
    "version": 3
   },
   "file_extension": ".py",
   "mimetype": "text/x-python",
   "name": "python",
   "nbconvert_exporter": "python",
   "pygments_lexer": "ipython3",
   "version": "3.6.8"
  },
  "pycharm": {
   "stem_cell": {
    "cell_type": "raw",
    "metadata": {
     "collapsed": false
    },
    "source": []
   }
  }
 },
 "nbformat": 4,
 "nbformat_minor": 2
}

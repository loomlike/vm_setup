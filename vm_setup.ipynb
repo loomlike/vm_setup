{
 "cells": [
  {
   "cell_type": "markdown",
   "metadata": {},
   "source": [
    "# Setup N Virtual Machines for Multiple Users\n",
    "\n",
    "Use Virtual Machine Scale Set (VMSS) to create *N* Virtual Machines (VMs), then invoke a script to setup multiple users on each VM instance. \n",
    "\n",
    "## Azure CLI Setup"
   ]
  },
  {
   "cell_type": "code",
   "execution_count": null,
   "metadata": {},
   "outputs": [],
   "source": [
    "AZURE_SUBSCRIPTION_ID = \"your-subscription-id\"\n",
    "LOCATION = \"your-resource-location\"  # e.g. australiaeast\n",
    "VM_SIZE = \"your-vm-size\"  # e.g. Standard_NC6s_v3\n",
    "RG_NAME = \"your-resource-group-name\"\n",
    "VMSS_NAME = \"{}-vmss\".format(RG_NAME)\n",
    "\n",
    "# Number of VM instances in a scale set \n",
    "NUM_VM = 40"
   ]
  },
  {
   "cell_type": "code",
   "execution_count": null,
   "metadata": {},
   "outputs": [],
   "source": [
    "!az login"
   ]
  },
  {
   "cell_type": "code",
   "execution_count": null,
   "metadata": {},
   "outputs": [],
   "source": [
    "!az account set -s {AZURE_SUBSCRIPTION_ID}"
   ]
  },
  {
   "cell_type": "code",
   "execution_count": null,
   "metadata": {},
   "outputs": [],
   "source": [
    "!az account show"
   ]
  },
  {
   "cell_type": "markdown",
   "metadata": {},
   "source": [
    "## Create VMSS"
   ]
  },
  {
   "cell_type": "code",
   "execution_count": null,
   "metadata": {},
   "outputs": [],
   "source": [
    "!az group create --name {RG_NAME} --location {LOCATION}"
   ]
  },
  {
   "cell_type": "code",
   "execution_count": null,
   "metadata": {},
   "outputs": [],
   "source": [
    "# Setup public-ip for each vm by using `--public-ip-per-vm` parameter\n",
    "!az vmss create -g {RG_NAME} -n {VMSS_NAME} --instance-count {NUM_VM} --image microsoft-dsvm:linux-data-science-vm-ubuntu:linuxdsvmubuntu:latest --vm-sku {VM_SIZE} --public-ip-per-vm --admin-username jiata --admin-password cvbpMlads2019"
   ]
  },
  {
   "cell_type": "code",
   "execution_count": null,
   "metadata": {},
   "outputs": [],
   "source": [
    "# Check public ip addresses of the instances\n",
    "!az vmss list-instance-public-ips --resource-group {RG_NAME} --name {VMSS_NAME} | grep 'ipAddress'"
   ]
  },
  {
   "cell_type": "markdown",
   "metadata": {},
   "source": [
    "## Create User Accounts and Environment Setup"
   ]
  },
  {
   "cell_type": "code",
   "execution_count": null,
   "metadata": {},
   "outputs": [],
   "source": [
    "SCRIPT = \"setup_vm.sh\""
   ]
  },
  {
   "cell_type": "code",
   "execution_count": null,
   "metadata": {},
   "outputs": [],
   "source": [
    "%%writefile setup_vm.sh\n",
    "cd ~\n",
    "\n",
    "# clone repo and install the conda env \n",
    "git clone https://www.github.com/microsoft/computervision \n",
    "# change permission as we copy this into each user's folder\n",
    "chmod -R ugo+rwx /root/computervision\n",
    "\n",
    "source /data/anaconda/etc/profile.d/conda.sh\n",
    "conda env create -f /root/computervision/environment.yml --name cv\n",
    "conda activate cv \n",
    "python -m ipykernel install --name cv --display-name \"MLADS CV LAB\" \n",
    "\n",
    "# add 32 users to jupyterhub\n",
    "echo 'c.Authenticator.whitelist = {\"mlads1\", \"mlads2\", \"mlads3\", \"mlads4\", \"mlads5\", \"mlads6\", \"mlads7\", \"mlads8\", \"mlads9\", \"mlads10\", \"mlads11\", \"mlads12\", \"mlads13\", \"mlads14\", \"mlads15\", \"mlads16\", \"mlads17\", \"mlads18\", \"mlads19\", \"mlads20\", \"mlads21\", \"mlads22\", \"mlads23\", \"mlads24\", \"mlads25\", \"mlads26\", \"mlads27\", \"mlads28\", \"mlads29\", \"mlads30\", \"mlads31\", \"mlads32\"}' | sudo tee -a /etc/jupyterhub/jupyterhub_config.py\n",
    "\n",
    "# create the users on the vm \n",
    "for i in {1..32}\n",
    "do\n",
    "    USERNAME=mlads$i\n",
    "    PASSWORD=cvmlads$i\n",
    "    sudo adduser --quiet --disabled-password --gecos \"\" $USERNAME\n",
    "    echo \"$USERNAME:$PASSWORD\" | sudo chpasswd\n",
    "    rm -rf /data/home/$USERNAME/notebooks/*\n",
    "    # copy repo\n",
    "    cp -ar /root/computervision /data/home/$USERNAME/notebooks\n",
    "done\n",
    "\n",
    "# restart jupyterhub \n",
    "sudo systemctl stop jupyterhub \n",
    "sudo systemctl start jupyterhub \n",
    "\n",
    "exit"
   ]
  },
  {
   "cell_type": "code",
   "execution_count": null,
   "metadata": {
    "scrolled": false
   },
   "outputs": [],
   "source": [
    "!az vmss list-instances -n {VMSS_NAME} -g {RG_NAME} --query \"[].id\" --output tsv | az vmss run-command invoke --command-id RunShellScript --scripts @{SCRIPT} --ids @- "
   ]
  },
  {
   "cell_type": "code",
   "execution_count": null,
   "metadata": {},
   "outputs": [],
   "source": []
  }
 ],
 "metadata": {
  "kernelspec": {
   "display_name": "Python (cv)",
   "language": "python",
   "name": "cv"
  },
  "language_info": {
   "codemirror_mode": {
    "name": "ipython",
    "version": 3
   },
   "file_extension": ".py",
   "mimetype": "text/x-python",
   "name": "python",
   "nbconvert_exporter": "python",
   "pygments_lexer": "ipython3",
   "version": "3.6.8"
  }
 },
 "nbformat": 4,
 "nbformat_minor": 2
}
